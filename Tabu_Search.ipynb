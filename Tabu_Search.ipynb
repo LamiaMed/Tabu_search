{
   "cells": [
    {
      "cell_type": "markdown",
      "metadata": {
        "id": "2VfN8cF9i_My"
      },
      "source": [
        "##1. Introduction de la matrice des distances"
      ]
    },
    {
      "cell_type": "code",
      "execution_count": 34,
      "metadata": {
        "colab": {
          "base_uri": "https://localhost:8080/"
        },
        "id": "lfNdQKAei7cY",
        "outputId": "931c9c8a-1e4a-416b-8f2e-b7b869893c35"
      },
      "outputs": [
        {
          "output_type": "execute_result",
          "data": {
            "text/plain": [
              "[[0, 12, 13, 15, 23, 25, 56, 27, 38, 29, 60, 32],\n",
              " [12, 0, 23, 22, 34, 56, 24, 78, 79, 34, 23, 24],\n",
              " [13, 23, 0, 25, 23, 19, 18, 42, 25, 23, 26, 33],\n",
              " [15, 22, 25, 0, 12, 24, 38, 27, 38, 49, 69, 29],\n",
              " [23, 34, 23, 12, 0, 54, 36, 71, 81, 19, 100, 22],\n",
              " [25, 56, 19, 24, 54, 0, 16, 27, 26, 37, 105, 72],\n",
              " [56, 24, 18, 38, 36, 16, 0, 18, 23, 24, 25, 26],\n",
              " [27, 78, 42, 27, 71, 27, 18, 0, 18, 19, 30, 53],\n",
              " [38, 79, 25, 38, 81, 26, 23, 18, 0, 29, 23, 22],\n",
              " [29, 34, 23, 49, 19, 37, 24, 19, 29, 0, 22, 42],\n",
              " [60, 23, 26, 69, 100, 105, 25, 30, 23, 22, 0, 36],\n",
              " [32, 24, 33, 29, 22, 72, 26, 53, 22, 42, 36, 0]]"
            ]
          },
          "metadata": {},
          "execution_count": 34
        }
      ],
      "source": [
        "distances = [[0,12,13,15,23,25,56,27,38,29,60,32],\n",
        "             [12,0,23,22,34,56,24,78,79,34,23,24],\n",
        "             [13,23,0,25,23,19,18,42,25,23,26,33],\n",
        "             [15,22,25,0,12,24,38,27,38,49,69,29],\n",
        "             [23,34,23,12,0,54,36,71,81,19,100,22],\n",
        "             [25,56,19,24,54,0,16,27,26,37,105,72],\n",
        "             [56,24,18,38,36,16,0,18,23,24,25,26],\n",
        "             [27,78,42,27,71,27,18,0,18,19,30,53],\n",
        "             [38,79,25,38,81,26,23,18,0,29,23,22],\n",
        "             [29,34,23,49,19,37,24,19,29,0,22,42],\n",
        "             [60,23,26,69,100,105,25,30,23,22,0,36],\n",
        "             [32,24,33,29,22,72,26,53,22,42,36,0]]\n",
        "\n",
        "distances"
      ]
    },
    {
      "cell_type": "markdown",
      "metadata": {
        "id": "-DTSusdVocl1"
      },
      "source": [
        "##2. Fonction de calcul de la distance pour un chemin donné"
      ]
    },
    {
      "cell_type": "code",
      "execution_count": 35,
      "metadata": {
        "id": "C5gIISD9lXms"
      },
      "outputs": [],
      "source": [
        "def count_dist(chemin):\n",
        "    dist = 0\n",
        "    for i in range(len(chemin)-1):\n",
        "        dist += distances[chemin[i]][chemin[i+1]]\n",
        "    return dist"
      ]
    },
    {
      "cell_type": "markdown",
      "metadata": {
        "id": "wq02NIbnD4Pq"
      },
      "source": [
        "##3. Solution initiale"
      ]
    },
    {
      "cell_type": "code",
      "source": [
        "def init_sol(distances, departure_ville):\n",
        "\n",
        "  # Algorithme du \" nearest neighbour \" pour l'initialisation de la solution S0\n",
        "  solution = [departure_ville]\n",
        "  current_ville = departure_ville\n",
        "  while len(solution) < len(distances):\n",
        "    min_distance = np.inf\n",
        "    next_ville = None\n",
        "    for ville, distance in enumerate(distances[current_ville]):\n",
        "      if distance < min_distance and ville not in solution:\n",
        "        min_distance = distance\n",
        "        next_ville = ville\n",
        "    solution.append(next_ville)\n",
        "    current_ville = next_ville\n",
        "  solution.append(departure_ville)\n",
        "  return solution\n"
      ],
      "metadata": {
        "id": "8SjABk8P3jkz"
      },
      "execution_count": 43,
      "outputs": []
    },
    {
      "cell_type": "markdown",
      "source": [
        "##4. Fonction de permutation entre deux indices donnés"
      ],
      "metadata": {
        "id": "00p9a76qPCRR"
      }
    },
    {
      "cell_type": "code",
      "execution_count": 37,
      "metadata": {
        "id": "JTPypXZO4loL"
      },
      "outputs": [],
      "source": [
        "def swap_func(solution, i, j):\n",
        "  swaped_solution = solution.copy()\n",
        "  swaped_solution[i] , swaped_solution[j] = solution[j] , solution[i]\n",
        "  return swaped_solution\n"
      ]
    },
    {
      "cell_type": "markdown",
      "source": [
        "##5. Fonction de génération des voisins à partir d'une solution donnée en entrée"
      ],
      "metadata": {
        "id": "-3IsblDbPMEi"
      }
    },
    {
      "cell_type": "code",
      "source": [
        "def neighboring(solution):\n",
        "  neighbors_list = []\n",
        "  \n",
        "  # Génération des vosins avec permutations sauf pour la ville de départ et d'arrivée\n",
        "  for i in range(1, len(solution)-1):\n",
        "    for j in range(i+1, len(solution)-1):\n",
        "      neighbor = solution[:]\n",
        "\n",
        "      # Permutation des éléments d'indices i et j\n",
        "      neighbor = swap_func(neighbor, i,j)\n",
        "\n",
        "      # Ajout du voisin à la liste\n",
        "      neighbors_list.append(neighbor)\n",
        "    \n",
        "  return neighbors_list"
      ],
      "metadata": {
        "id": "4gP-8OkqV8lS"
      },
      "execution_count": 38,
      "outputs": []
    },
    {
      "cell_type": "markdown",
      "metadata": {
        "id": "44iiSAWuJwMM"
      },
      "source": [
        "##6. Algorithme de la recherche tabou"
      ]
    },
    {
      "cell_type": "code",
      "execution_count": 39,
      "metadata": {
        "id": "6T4KaAX0GfLj"
      },
      "outputs": [],
      "source": [
        "def tabu_search(departure_ville, distances): \n",
        "\n",
        "  # La liste qui contient les solutions tabou / les chemins tabou\n",
        "  tabu_list = [] \n",
        "\n",
        "  # Choix de la solution initiale / chemin initial\n",
        "  s0 = init_sol(distances,departure_ville)\n",
        "\n",
        "  # Le chemin actuelle\n",
        "  s = s0.copy()\n",
        "\n",
        "  # La distance actuelle\n",
        "  best_distance = count_dist(s) \n",
        "  best_solution = s.copy()\n",
        "  Tabu_length = 50\n",
        "  distances_globales = []\n",
        "  best_distances_globales = []\n",
        "  distance_locale = best_distance\n",
        "\n",
        "\n",
        "  print(\"La distance de départ : \", best_distance)\n",
        "  print(\"Le chemin de départ : \", s0)\n",
        "  \n",
        "\n",
        "  print(\"-----------------------------------------------\")\n",
        "\n",
        "  # Nombre d'itérations\n",
        "  nb_it = 100\n",
        "\n",
        "  #Compteur d'itérations\n",
        "  cpt = 0\n",
        "\n",
        "  while cpt < nb_it:\n",
        "    # Utilisés principalement pour l'affichage de l'évolution de la solution\n",
        "    distance_locale = count_dist(s)\n",
        "    distances_globales.append(distance_locale)\n",
        "\n",
        "    # Générer la liste des voisins\n",
        "    neighbors = neighboring(s)\n",
        "\n",
        "    # Ces variables permettent de choisir le meilleur voisin pour chaque solution\n",
        "    best_solution_neighbor = None\n",
        "    best_distance_neighbor = float('inf')\n",
        "\n",
        "    \n",
        "    # Parcourir la liste des voisins\n",
        "    for n in neighbors : \n",
        "\n",
        "      # Verifier si la solution voisine n'est pas une solution tabou\n",
        "      if n not in tabu_list : \n",
        "        n_distance = count_dist(n)\n",
        "        if n_distance < best_distance_neighbor : \n",
        "          best_solution_neighbor = n.copy()\n",
        "          best_distance_neighbor = n_distance\n",
        "\n",
        "\n",
        "    # Initialisation de la liste tabou et MÀJ de la solution optimale\n",
        "    if best_solution_neighbor is not None : \n",
        "\n",
        "      #MÀJ de la soulution courante\n",
        "      s = best_solution_neighbor.copy()\n",
        "\n",
        "      # MÀJ du chemin optimal et la distance optimale\n",
        "      if best_distance_neighbor < best_distance : \n",
        "        best_solution = s.copy()\n",
        "        best_distance = best_distance_neighbor\n",
        "        best_distances_globales.append(best_distance)\n",
        "\n",
        "      #MÀJ de la liste tabou en insérant la nouvelle solution optimale tout en dépilant la toute première solution empilée qui se trouve dans le dernier indice de la table\n",
        "      tabu_list = [best_solution_neighbor] + tabu_list[:Tabu_length]\n",
        "\n",
        "    cpt += 1\n",
        "  print(\"La distance optimale est : \", best_distance)\n",
        "  print(\"Le chemin optimal est : \", best_solution)\n",
        "  return distances_globales, best_distances_globales\n",
        "\n",
        "\n",
        "    \n",
        "      \n",
        "    "
      ]
    },
    {
      "cell_type": "markdown",
      "source": [
        "##7. Appel de la focntion : \n",
        "avec comme paramètres d'entrée : \n",
        "**la ville de départ et la matrice de distances entre les villes**"
      ],
      "metadata": {
        "id": "wrpt8cahPY4P"
      }
    },
    {
      "cell_type": "code",
      "execution_count": 44,
      "metadata": {
        "colab": {
          "base_uri": "https://localhost:8080/"
        },
        "id": "XfpwUa3em1lR",
        "outputId": "e03a4ac0-9cba-4e8c-fe1b-3f2305adfaca"
      },
      "outputs": [
        {
          "output_type": "stream",
          "name": "stdout",
          "text": [
            "La distance de départ :  280\n",
            "Le chemin de départ :  [0, 1, 3, 4, 9, 7, 6, 5, 2, 8, 11, 10, 0]\n",
            "-----------------------------------------------\n",
            "La distance optimale est :  220\n",
            "Le chemin optimal est :  [0, 1, 3, 4, 11, 8, 10, 9, 7, 6, 5, 2, 0]\n"
          ]
        }
      ],
      "source": [
        "distances_globales, best_distances_globales= tabu_search(departure_ville = 0, distances = distances)"
      ]
    },
    {
      "cell_type": "code",
      "source": [
        "plot.figure(figsize=(10, 5))\n",
        "plot.plot(distances_globales)\n",
        "plot.xlabel(\"Le nombre d'itérations\")\n",
        "plot.ylabel(\"Les distances\")\n",
        "plot.title('Évolution des distances selon les itérations')"
      ],
      "metadata": {
        "colab": {
          "base_uri": "https://localhost:8080/",
          "height": 367
        },
        "id": "F05q12DOtGJq",
        "outputId": "b04f97f7-bd1a-4be7-d72b-e4b9d51bfc5b"
      },
      "execution_count": 41,
      "outputs": [
        {
          "output_type": "execute_result",
          "data": {
            "text/plain": [
              "Text(0.5, 1.0, 'Évolution des distances selon les itérations')"
            ]
          },
          "metadata": {},
          "execution_count": 41
        },
        {
          "output_type": "display_data",
          "data": {
            "text/plain": [
              "<Figure size 720x360 with 1 Axes>"
            ],
            "image/png": "[encoded data removed]"
          },
          "metadata": {
            "needs_background": "light"
          }
        }
      ]
    },
    {
      "cell_type": "code",
      "source": [
        "plot.figure(figsize=(10, 5))\n",
        "plot.plot(best_distances_globales)\n",
        "plot.title(\"L'évolution de la valeur de best_distance\")\n",
        "plot.xlabel(\"Les itérations\")\n",
        "plot.ylabel(\"Les valeurs de best_distance\")"
      ],
      "metadata": {
        "colab": {
          "base_uri": "https://localhost:8080/",
          "height": 367
        },
        "id": "2T67alin4sw0",
        "outputId": "7b73d0b6-7923-441e-aa45-fa7bd5a4b51c"
      },
      "execution_count": 42,
      "outputs": [
        {
          "output_type": "execute_result",
          "data": {
            "text/plain": [
              "Text(0, 0.5, 'Les valeurs de best_distance')"
            ]
          },
          "metadata": {},
          "execution_count": 42
        },
        {
          "output_type": "display_data",
          "data": {
            "text/plain": [
              "<Figure size 720x360 with 1 Axes>"
            ],
            "image/png": "[encoded data removed]"
          },
          "metadata": {
            "needs_background": "light"
          }
        }
      ]
    }
  ],
  "metadata": {
    "colab": {
      "provenance": []
    },
    "kernelspec": {
      "display_name": "Python 3",
      "name": "python3"
    },
    "language_info": {
      "name": "python"
    }
  },
  "nbformat": 4,
  "nbformat_minor": 0
}
